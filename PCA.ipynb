{
 "cells": [
  {
   "cell_type": "code",
   "execution_count": 21,
   "id": "5f594214",
   "metadata": {},
   "outputs": [
    {
     "name": "stdout",
     "output_type": "stream",
     "text": [
      "PCA()\n",
      "    pca_comp 0  pca_comp 1  pca_comp 2  pca_comp 3  pca_comp 4  pca_comp 5  \\\n",
      "0    -0.283127   -0.071530    0.140845   -0.518393   -0.084935    0.033734   \n",
      "1    -0.285397    0.074406    0.242512    0.398456    0.050761   -0.020729   \n",
      "2    -0.301314    0.020265    0.248407    0.037685   -0.034312    0.161840   \n",
      "3    -0.241346   -0.379181    0.138388   -0.371142   -0.491864   -0.074300   \n",
      "4    -0.239476   -0.361444    0.243020    0.334775    0.438969    0.131396   \n",
      "5    -0.263813   -0.332722    0.266830    0.047475   -0.008377    0.281691   \n",
      "6    -0.222031    0.412574    0.071687   -0.475301    0.527639    0.209234   \n",
      "7    -0.234216    0.431397    0.121637    0.288101   -0.480931    0.057718   \n",
      "8    -0.240911    0.468070    0.107796    0.020775   -0.118088    0.095185   \n",
      "9     0.256012    0.010069    0.510495   -0.072238    0.055815   -0.331079   \n",
      "10    0.281772    0.120944    0.377125   -0.044088   -0.002561   -0.034502   \n",
      "11    0.281317    0.106744    0.385416   -0.040700   -0.023625    0.009313   \n",
      "12    0.289518   -0.033491    0.344078   -0.028887   -0.078110    0.247268   \n",
      "13   -0.303832    0.034030    0.094439    0.002948    0.144623   -0.801188   \n",
      "\n",
      "    pca_comp 6  pca_comp 7  pca_comp 8  pca_comp 9  pca_comp 10  pca_comp 11  \\\n",
      "0     0.068205   -0.360657    0.197776    0.046020    -0.430569    -0.468345   \n",
      "1     0.190573   -0.525240    0.252542   -0.019305     0.226927     0.286071   \n",
      "2     0.446623   -0.183005   -0.455779   -0.132979     0.045434    -0.036709   \n",
      "3    -0.335307   -0.030851    0.066919   -0.067306     0.367861     0.344875   \n",
      "4    -0.538464   -0.026375    0.129021   -0.005951    -0.127153    -0.169995   \n",
      "5     0.311184    0.604476   -0.093653   -0.014571     0.014512    -0.050296   \n",
      "6     0.003147    0.173029    0.242876    0.017482     0.163326     0.317794   \n",
      "7    -0.026997    0.285611    0.460700    0.030124    -0.240862    -0.030373   \n",
      "8    -0.483249   -0.021575   -0.589578    0.003169     0.008403    -0.078592   \n",
      "9    -0.019605    0.053254   -0.095760   -0.353382    -0.503970     0.403263   \n",
      "10    0.076341   -0.110310    0.087989   -0.134350     0.375555    -0.323650   \n",
      "11   -0.112673    0.145920    0.118273   -0.119226     0.322277    -0.343049   \n",
      "12   -0.002153   -0.092207   -0.072558    0.817349    -0.097280     0.185254   \n",
      "13    0.084660    0.191684   -0.066912    0.385516     0.127420    -0.140133   \n",
      "\n",
      "    pca_comp 12  pca_comp 13  \n",
      "0      0.182560    -0.061467  \n",
      "1      0.394162    -0.165483  \n",
      "2     -0.594955    -0.050385  \n",
      "3     -0.123422     0.041735  \n",
      "4     -0.259686     0.105330  \n",
      "5      0.436872     0.044948  \n",
      "6     -0.097578     0.028638  \n",
      "7     -0.247406     0.104955  \n",
      "8      0.315242     0.024162  \n",
      "9      0.043166     0.008104  \n",
      "10     0.051397     0.684391  \n",
      "11    -0.066156    -0.685935  \n",
      "12    -0.054031     0.007636  \n",
      "13    -0.043584     0.000196  \n"
     ]
    }
   ],
   "source": [
    "import pandas as pd\n",
    "import numpy as np\n",
    "from sklearn.preprocessing import StandardScaler\n",
    "from sklearn.decomposition import PCA\n",
    "\n",
    "data_ddf = pd.read_csv('data_DDF.csv', delimiter=';')\n",
    "data_ddf = data_ddf.iloc[:, np.r_[33, 40:49, 59:64]]\n",
    "data_ddf = data_ddf.dropna()\n",
    "#data_ddf['DDF grade'] = data_ddf['DD LV grade']\n",
    "replace_valuer = {0:'normal', 1:'DDF 1', 2:'DDF 2', 3:'DDF 3'}\n",
    "data_ddf = data_ddf.replace({'DD LV grade':replace_valuer})\n",
    "\n",
    "x = data_ddf.loc[0:, 'LALSr':'TEF%']\n",
    "y = data_ddf.loc[0:, 'DD LV grade']\n",
    "x = StandardScaler().fit_transform(x)\n",
    "x =pd.DataFrame(x)\n",
    "\n",
    "pca = PCA()\n",
    "x_pca = pca.fit(x)\n",
    "evr = x_pca.explained_variance_ratio_\n",
    "cvr = np.cumsum(x_pca.explained_variance_ratio_)\n",
    "pca_df = pd.DataFrame()\n",
    "print(x_pca)\n",
    "pca_df['cum_var_rat'] = cvr\n",
    "pca_df['exp_var_rat'] = evr\n",
    "a = []\n",
    "for x in range(0, len(pca_df)):\n",
    "    a.append('pca_comp {}'.format(x))\n",
    "r = pd.DataFrame(x_pca.components_, index=a)\n",
    "    \n",
    "print(r.T)\n"
   ]
  },
  {
   "cell_type": "code",
   "execution_count": null,
   "id": "8097a24a",
   "metadata": {},
   "outputs": [],
   "source": []
  }
 ],
 "metadata": {
  "kernelspec": {
   "display_name": "Python 3",
   "language": "python",
   "name": "python3"
  },
  "language_info": {
   "codemirror_mode": {
    "name": "ipython",
    "version": 3
   },
   "file_extension": ".py",
   "mimetype": "text/x-python",
   "name": "python",
   "nbconvert_exporter": "python",
   "pygments_lexer": "ipython3",
   "version": "3.8.8"
  }
 },
 "nbformat": 4,
 "nbformat_minor": 5
}
