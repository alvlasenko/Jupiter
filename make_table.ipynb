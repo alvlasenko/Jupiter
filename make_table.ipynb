{
  "nbformat": 4,
  "nbformat_minor": 0,
  "metadata": {
    "colab": {
      "name": "make_table.ipynb",
      "provenance": [],
      "collapsed_sections": [],
      "mount_file_id": "1DxGxJexEhDNmKeqbyYiPIF373U5Ulycf",
      "authorship_tag": "ABX9TyMmNpQrDR5qWohuzslWScHo",
      "include_colab_link": true
    },
    "kernelspec": {
      "name": "python3",
      "display_name": "Python 3"
    },
    "language_info": {
      "name": "python"
    }
  },
  "cells": [
    {
      "cell_type": "markdown",
      "metadata": {
        "id": "view-in-github",
        "colab_type": "text"
      },
      "source": [
        "<a href=\"https://colab.research.google.com/github/alvlasenko/Jupiter/blob/master/make_table.ipynb\" target=\"_parent\"><img src=\"https://colab.research.google.com/assets/colab-badge.svg\" alt=\"Open In Colab\"/></a>"
      ]
    },
    {
      "cell_type": "markdown",
      "source": [
        ""
      ],
      "metadata": {
        "id": "Klai31MKooZn"
      }
    },
    {
      "cell_type": "markdown",
      "source": [
        "## Команда для создания нового файла в вормате csv и xlsx\n",
        "Использовать только для создания нового файла"
      ],
      "metadata": {
        "id": "K0RZfKTjoqlj"
      }
    },
    {
      "cell_type": "code",
      "source": [
        "import pandas as pd\n",
        "pd.DataFrame({}).to_csv('/content/drive/MyDrive/Colab Notebooks/Tabl_TT/res.csv')\n",
        "pd.DataFrame({}).to_excel('/content/drive/MyDrive/Colab Notebooks/Tabl_TT/res.xlsx')"
      ],
      "metadata": {
        "id": "fXpOu9fjovGr"
      },
      "execution_count": 19,
      "outputs": []
    },
    {
      "cell_type": "markdown",
      "source": [
        "## Команда добавления данных в таблицу данных из файлов в папке BD_txt"
      ],
      "metadata": {
        "id": "9NrNyeGapo67"
      }
    },
    {
      "cell_type": "code",
      "source": [
        "import os\n",
        "import pandas as pd\n",
        "pd.set_option('precision', 2)\n",
        "import re\n",
        "\n",
        "data_dir = '/content/drive/MyDrive/Colab Notebooks/Tabl_TT/BD_txt/'\n",
        "for file in os.listdir(data_dir):\n",
        "    if file.endswith('.txt'):\n",
        "        df = pd.read_table(data_dir+file, delimiter=',')\n",
        "        df['NewLabel'] = df['Description'] + ' : ' + df['Label']\n",
        "        df.drop_duplicates(subset='NewLabel', keep=\"first\", inplace=True, ignore_index=True)\n",
        "        data = df[['NewLabel', 'ValueToUse']].T\n",
        "        data.columns = data.iloc[0]\n",
        "        data=data.drop(data.index[0])\n",
        "        try:\n",
        "          data.insert(0, 'ID', re.split(\"\\(|\\)\", file)[0])\n",
        "          data.insert(1, 'Assessment of regional LV function (WMSI)', re.split(\"\\(|\\)\", file)[1])\n",
        "        except:\n",
        "          data = data.assign(ID = file.split('.')[0])\n",
        "        data.reset_index(inplace=True, drop=True)\n",
        "        df_res = pd.read_csv('/content/drive/MyDrive/Colab Notebooks/Tabl_TT/res.csv', delimiter=',')\n",
        "        res = pd.concat([df_res, data])\n",
        "        res.drop_duplicates(subset='ID', keep='first', inplace=True, ignore_index=True)\n",
        "        res.to_csv('/content/drive/MyDrive/Colab Notebooks/Tabl_TT/res.csv', index=False)\n"
      ],
      "metadata": {
        "id": "rZ3oz7KTpyqX"
      },
      "execution_count": 30,
      "outputs": []
    },
    {
      "cell_type": "markdown",
      "source": [
        "## Команда передачи данных в таблицу excell"
      ],
      "metadata": {
        "id": "3GxmA8uKrOZ4"
      }
    },
    {
      "cell_type": "code",
      "source": [
        "data = pd.read_csv('/content/drive/MyDrive/Colab Notebooks/Tabl_TT/res.csv')\n",
        "data.to_excel('/content/drive/MyDrive/Colab Notebooks/Tabl_TT/res.xlsx', index=False)\n",
        "print(data.shape)"
      ],
      "metadata": {
        "colab": {
          "base_uri": "https://localhost:8080/"
        },
        "id": "cwpHhwflrYlB",
        "outputId": "10d107ee-6c24-4d66-b928-24167c057b55"
      },
      "execution_count": 31,
      "outputs": [
        {
          "output_type": "stream",
          "name": "stdout",
          "text": [
            "(7, 151)\n"
          ]
        }
      ]
    }
  ]
}