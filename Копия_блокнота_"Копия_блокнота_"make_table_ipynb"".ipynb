{
  "nbformat": 4,
  "nbformat_minor": 0,
  "metadata": {
    "colab": {
      "name": "Копия блокнота \"Копия блокнота \"make_table.ipynb\"\"",
      "provenance": [],
      "collapsed_sections": [],
      "mount_file_id": "13aqABDZOVIDLwcLgE3rVXPw_MVxprDAd",
      "authorship_tag": "ABX9TyM+7B7C+vdXcOhK2j7HNDFu",
      "include_colab_link": true
    },
    "kernelspec": {
      "name": "python3",
      "display_name": "Python 3"
    },
    "language_info": {
      "name": "python"
    },
    "widgets": {
      "application/vnd.jupyter.widget-state+json": {
        "3d3160f8194e46efac94b12df88f8dd5": {
          "model_module": "@jupyter-widgets/controls",
          "model_name": "HBoxModel",
          "model_module_version": "1.5.0",
          "state": {
            "_view_name": "HBoxView",
            "_dom_classes": [],
            "_model_name": "HBoxModel",
            "_view_module": "@jupyter-widgets/controls",
            "_model_module_version": "1.5.0",
            "_view_count": null,
            "_view_module_version": "1.5.0",
            "box_style": "",
            "layout": "IPY_MODEL_e1679d0d770a452ca8e037837fcba09f",
            "_model_module": "@jupyter-widgets/controls",
            "children": [
              "IPY_MODEL_772319fd8b6d48518593a02d19e404af",
              "IPY_MODEL_a02d322a634a43a283cba1a18d1690e7",
              "IPY_MODEL_502758d91ba0424683e33787989239a4"
            ]
          }
        },
        "e1679d0d770a452ca8e037837fcba09f": {
          "model_module": "@jupyter-widgets/base",
          "model_name": "LayoutModel",
          "model_module_version": "1.2.0",
          "state": {
            "_view_name": "LayoutView",
            "grid_template_rows": null,
            "right": null,
            "justify_content": null,
            "_view_module": "@jupyter-widgets/base",
            "overflow": null,
            "_model_module_version": "1.2.0",
            "_view_count": null,
            "flex_flow": null,
            "width": null,
            "min_width": null,
            "border": null,
            "align_items": null,
            "bottom": null,
            "_model_module": "@jupyter-widgets/base",
            "top": null,
            "grid_column": null,
            "overflow_y": null,
            "overflow_x": null,
            "grid_auto_flow": null,
            "grid_area": null,
            "grid_template_columns": null,
            "flex": null,
            "_model_name": "LayoutModel",
            "justify_items": null,
            "grid_row": null,
            "max_height": null,
            "align_content": null,
            "visibility": null,
            "align_self": null,
            "height": null,
            "min_height": null,
            "padding": null,
            "grid_auto_rows": null,
            "grid_gap": null,
            "max_width": null,
            "order": null,
            "_view_module_version": "1.2.0",
            "grid_template_areas": null,
            "object_position": null,
            "object_fit": null,
            "grid_auto_columns": null,
            "margin": null,
            "display": null,
            "left": null
          }
        },
        "772319fd8b6d48518593a02d19e404af": {
          "model_module": "@jupyter-widgets/controls",
          "model_name": "HTMLModel",
          "model_module_version": "1.5.0",
          "state": {
            "_view_name": "HTMLView",
            "style": "IPY_MODEL_59d20291510f4e9493269954808e6343",
            "_dom_classes": [],
            "description": "",
            "_model_name": "HTMLModel",
            "placeholder": "​",
            "_view_module": "@jupyter-widgets/controls",
            "_model_module_version": "1.5.0",
            "value": "100%",
            "_view_count": null,
            "_view_module_version": "1.5.0",
            "description_tooltip": null,
            "_model_module": "@jupyter-widgets/controls",
            "layout": "IPY_MODEL_355e8774857f41b689e861cef4214847"
          }
        },
        "a02d322a634a43a283cba1a18d1690e7": {
          "model_module": "@jupyter-widgets/controls",
          "model_name": "FloatProgressModel",
          "model_module_version": "1.5.0",
          "state": {
            "_view_name": "ProgressView",
            "style": "IPY_MODEL_dc0e647f2efd4282bc8665beeae21616",
            "_dom_classes": [],
            "description": "",
            "_model_name": "FloatProgressModel",
            "bar_style": "success",
            "max": 7,
            "_view_module": "@jupyter-widgets/controls",
            "_model_module_version": "1.5.0",
            "value": 7,
            "_view_count": null,
            "_view_module_version": "1.5.0",
            "orientation": "horizontal",
            "min": 0,
            "description_tooltip": null,
            "_model_module": "@jupyter-widgets/controls",
            "layout": "IPY_MODEL_8412b8659d0142b4a5585e4ffa1ddaef"
          }
        },
        "502758d91ba0424683e33787989239a4": {
          "model_module": "@jupyter-widgets/controls",
          "model_name": "HTMLModel",
          "model_module_version": "1.5.0",
          "state": {
            "_view_name": "HTMLView",
            "style": "IPY_MODEL_9fb182c6092446f8a4b9af1bbaff16fd",
            "_dom_classes": [],
            "description": "",
            "_model_name": "HTMLModel",
            "placeholder": "​",
            "_view_module": "@jupyter-widgets/controls",
            "_model_module_version": "1.5.0",
            "value": " 7/7 [00:04&lt;00:00,  1.86it/s]",
            "_view_count": null,
            "_view_module_version": "1.5.0",
            "description_tooltip": null,
            "_model_module": "@jupyter-widgets/controls",
            "layout": "IPY_MODEL_354e30a604094a3d9b4963aa7edbc035"
          }
        },
        "59d20291510f4e9493269954808e6343": {
          "model_module": "@jupyter-widgets/controls",
          "model_name": "DescriptionStyleModel",
          "model_module_version": "1.5.0",
          "state": {
            "_view_name": "StyleView",
            "_model_name": "DescriptionStyleModel",
            "description_width": "",
            "_view_module": "@jupyter-widgets/base",
            "_model_module_version": "1.5.0",
            "_view_count": null,
            "_view_module_version": "1.2.0",
            "_model_module": "@jupyter-widgets/controls"
          }
        },
        "355e8774857f41b689e861cef4214847": {
          "model_module": "@jupyter-widgets/base",
          "model_name": "LayoutModel",
          "model_module_version": "1.2.0",
          "state": {
            "_view_name": "LayoutView",
            "grid_template_rows": null,
            "right": null,
            "justify_content": null,
            "_view_module": "@jupyter-widgets/base",
            "overflow": null,
            "_model_module_version": "1.2.0",
            "_view_count": null,
            "flex_flow": null,
            "width": null,
            "min_width": null,
            "border": null,
            "align_items": null,
            "bottom": null,
            "_model_module": "@jupyter-widgets/base",
            "top": null,
            "grid_column": null,
            "overflow_y": null,
            "overflow_x": null,
            "grid_auto_flow": null,
            "grid_area": null,
            "grid_template_columns": null,
            "flex": null,
            "_model_name": "LayoutModel",
            "justify_items": null,
            "grid_row": null,
            "max_height": null,
            "align_content": null,
            "visibility": null,
            "align_self": null,
            "height": null,
            "min_height": null,
            "padding": null,
            "grid_auto_rows": null,
            "grid_gap": null,
            "max_width": null,
            "order": null,
            "_view_module_version": "1.2.0",
            "grid_template_areas": null,
            "object_position": null,
            "object_fit": null,
            "grid_auto_columns": null,
            "margin": null,
            "display": null,
            "left": null
          }
        },
        "dc0e647f2efd4282bc8665beeae21616": {
          "model_module": "@jupyter-widgets/controls",
          "model_name": "ProgressStyleModel",
          "model_module_version": "1.5.0",
          "state": {
            "_view_name": "StyleView",
            "_model_name": "ProgressStyleModel",
            "description_width": "",
            "_view_module": "@jupyter-widgets/base",
            "_model_module_version": "1.5.0",
            "_view_count": null,
            "_view_module_version": "1.2.0",
            "bar_color": null,
            "_model_module": "@jupyter-widgets/controls"
          }
        },
        "8412b8659d0142b4a5585e4ffa1ddaef": {
          "model_module": "@jupyter-widgets/base",
          "model_name": "LayoutModel",
          "model_module_version": "1.2.0",
          "state": {
            "_view_name": "LayoutView",
            "grid_template_rows": null,
            "right": null,
            "justify_content": null,
            "_view_module": "@jupyter-widgets/base",
            "overflow": null,
            "_model_module_version": "1.2.0",
            "_view_count": null,
            "flex_flow": null,
            "width": null,
            "min_width": null,
            "border": null,
            "align_items": null,
            "bottom": null,
            "_model_module": "@jupyter-widgets/base",
            "top": null,
            "grid_column": null,
            "overflow_y": null,
            "overflow_x": null,
            "grid_auto_flow": null,
            "grid_area": null,
            "grid_template_columns": null,
            "flex": null,
            "_model_name": "LayoutModel",
            "justify_items": null,
            "grid_row": null,
            "max_height": null,
            "align_content": null,
            "visibility": null,
            "align_self": null,
            "height": null,
            "min_height": null,
            "padding": null,
            "grid_auto_rows": null,
            "grid_gap": null,
            "max_width": null,
            "order": null,
            "_view_module_version": "1.2.0",
            "grid_template_areas": null,
            "object_position": null,
            "object_fit": null,
            "grid_auto_columns": null,
            "margin": null,
            "display": null,
            "left": null
          }
        },
        "9fb182c6092446f8a4b9af1bbaff16fd": {
          "model_module": "@jupyter-widgets/controls",
          "model_name": "DescriptionStyleModel",
          "model_module_version": "1.5.0",
          "state": {
            "_view_name": "StyleView",
            "_model_name": "DescriptionStyleModel",
            "description_width": "",
            "_view_module": "@jupyter-widgets/base",
            "_model_module_version": "1.5.0",
            "_view_count": null,
            "_view_module_version": "1.2.0",
            "_model_module": "@jupyter-widgets/controls"
          }
        },
        "354e30a604094a3d9b4963aa7edbc035": {
          "model_module": "@jupyter-widgets/base",
          "model_name": "LayoutModel",
          "model_module_version": "1.2.0",
          "state": {
            "_view_name": "LayoutView",
            "grid_template_rows": null,
            "right": null,
            "justify_content": null,
            "_view_module": "@jupyter-widgets/base",
            "overflow": null,
            "_model_module_version": "1.2.0",
            "_view_count": null,
            "flex_flow": null,
            "width": null,
            "min_width": null,
            "border": null,
            "align_items": null,
            "bottom": null,
            "_model_module": "@jupyter-widgets/base",
            "top": null,
            "grid_column": null,
            "overflow_y": null,
            "overflow_x": null,
            "grid_auto_flow": null,
            "grid_area": null,
            "grid_template_columns": null,
            "flex": null,
            "_model_name": "LayoutModel",
            "justify_items": null,
            "grid_row": null,
            "max_height": null,
            "align_content": null,
            "visibility": null,
            "align_self": null,
            "height": null,
            "min_height": null,
            "padding": null,
            "grid_auto_rows": null,
            "grid_gap": null,
            "max_width": null,
            "order": null,
            "_view_module_version": "1.2.0",
            "grid_template_areas": null,
            "object_position": null,
            "object_fit": null,
            "grid_auto_columns": null,
            "margin": null,
            "display": null,
            "left": null
          }
        }
      }
    }
  },
  "cells": [
    {
      "cell_type": "markdown",
      "metadata": {
        "id": "view-in-github",
        "colab_type": "text"
      },
      "source": [
        "<a href=\"https://colab.research.google.com/github/alvlasenko/Jupiter/blob/master/%D0%9A%D0%BE%D0%BF%D0%B8%D1%8F_%D0%B1%D0%BB%D0%BE%D0%BA%D0%BD%D0%BE%D1%82%D0%B0_%22%D0%9A%D0%BE%D0%BF%D0%B8%D1%8F_%D0%B1%D0%BB%D0%BE%D0%BA%D0%BD%D0%BE%D1%82%D0%B0_%22make_table_ipynb%22%22.ipynb\" target=\"_parent\"><img src=\"https://colab.research.google.com/assets/colab-badge.svg\" alt=\"Open In Colab\"/></a>"
      ]
    },
    {
      "cell_type": "markdown",
      "source": [
        ""
      ],
      "metadata": {
        "id": "Klai31MKooZn"
      }
    },
    {
      "cell_type": "markdown",
      "source": [
        "# Начало работы\n",
        "## Команда для создания нового файла в вормате csv\n",
        "Использовать только для создания нового файла"
      ],
      "metadata": {
        "id": "K0RZfKTjoqlj"
      }
    },
    {
      "cell_type": "code",
      "source": [
        "#@title\n",
        "import pandas as pd\n",
        "pd.DataFrame({}).to_csv('/content/drive/MyDrive/Colab Notebooks/Tabl_TT/res.csv')"
      ],
      "metadata": {
        "id": "fXpOu9fjovGr",
        "cellView": "form"
      },
      "execution_count": 2,
      "outputs": []
    },
    {
      "cell_type": "markdown",
      "source": [
        "## Поместить в папку BD_txt файлы отчета ТомТек в формате .txt"
      ],
      "metadata": {
        "id": "QmQSMC4Y_2bV"
      }
    },
    {
      "cell_type": "markdown",
      "source": [
        "## Команда добавления данных в таблицу данных из файлов в папке BD_txt"
      ],
      "metadata": {
        "id": "9NrNyeGapo67"
      }
    },
    {
      "cell_type": "code",
      "source": [
        "#@title\n",
        "import os\n",
        "import pandas as pd\n",
        "pd.set_option('precision', 2)\n",
        "import re\n",
        "from tqdm.auto import tqdm, trange\n",
        "\n",
        "data_dir = '/content/drive/MyDrive/Colab Notebooks/Tabl_TT/BD_txt/'\n",
        "for file in tqdm(os.listdir(data_dir)):\n",
        "    if file.endswith('.txt'):\n",
        "        df = pd.read_table(data_dir+file, delimiter=',')\n",
        "        df['NewLabel'] = df['Description'] + ' : ' + df['Label']\n",
        "        df.drop_duplicates(subset='NewLabel', keep=\"first\", inplace=True, ignore_index=True)\n",
        "        data = df[['NewLabel', 'ValueToUse']].T\n",
        "        data.columns = data.iloc[0]\n",
        "        data=data.drop(data.index[0])\n",
        "        try:\n",
        "          data.insert(0, 'ID', re.split(\"\\(|\\)\", file)[0])\n",
        "          data.insert(1, 'Assessment of regional LV function (WMSI)', re.split(\"\\(|\\)\", file)[1])\n",
        "        except:\n",
        "          data = data.assign(ID = file.split('.')[0])\n",
        "        data.reset_index(inplace=True, drop=True)\n",
        "        df_res = pd.read_csv('/content/drive/MyDrive/Colab Notebooks/Tabl_TT/res.csv', delimiter=',')\n",
        "        res = pd.concat([df_res, data])\n",
        "        res.drop_duplicates(subset='ID', keep='first', inplace=True, ignore_index=True)\n",
        "        res.to_csv('/content/drive/MyDrive/Colab Notebooks/Tabl_TT/res.csv', index=False)\n",
        "\n",
        "data = pd.read_csv('/content/drive/MyDrive/Colab Notebooks/Tabl_TT/res.csv')\n",
        "data.to_excel('/content/drive/MyDrive/Colab Notebooks/Tabl_TT/res.xlsx', index=False)\n",
        "print(\"Создан файл таблицы в формате .xlsx, расположен в папке Tabl_TT\")\n",
        "print(data.shape)"
      ],
      "metadata": {
        "id": "rZ3oz7KTpyqX",
        "cellView": "form",
        "colab": {
          "base_uri": "https://localhost:8080/",
          "height": 84,
          "referenced_widgets": [
            "3d3160f8194e46efac94b12df88f8dd5",
            "e1679d0d770a452ca8e037837fcba09f",
            "772319fd8b6d48518593a02d19e404af",
            "a02d322a634a43a283cba1a18d1690e7",
            "502758d91ba0424683e33787989239a4",
            "59d20291510f4e9493269954808e6343",
            "355e8774857f41b689e861cef4214847",
            "dc0e647f2efd4282bc8665beeae21616",
            "8412b8659d0142b4a5585e4ffa1ddaef",
            "9fb182c6092446f8a4b9af1bbaff16fd",
            "354e30a604094a3d9b4963aa7edbc035"
          ]
        },
        "outputId": "c47f759a-6f98-42d7-91ea-f230f24ce87f"
      },
      "execution_count": 3,
      "outputs": [
        {
          "output_type": "display_data",
          "data": {
            "application/vnd.jupyter.widget-view+json": {
              "model_id": "3d3160f8194e46efac94b12df88f8dd5",
              "version_minor": 0,
              "version_major": 2
            },
            "text/plain": [
              "  0%|          | 0/7 [00:00<?, ?it/s]"
            ]
          },
          "metadata": {}
        },
        {
          "output_type": "stream",
          "name": "stdout",
          "text": [
            "Создан файл таблицы в формате .xlsx, расположен в папке Tabl_TT\n",
            "(7, 151)\n"
          ]
        }
      ]
    }
  ]
}